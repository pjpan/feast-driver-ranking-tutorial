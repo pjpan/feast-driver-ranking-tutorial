{
 "cells": [
  {
   "cell_type": "markdown",
   "metadata": {
    "id": "qa-41097T0vH"
   },
   "source": [
    "# Overview\n",
    "In this guide tutorial, we build the model that predicts if a driver will complete a trip based on a number of features ingested into Feast.\n",
    "\n",
    "The basic local mode gives you ability to quickly try Feast, while the advanced mode shows how you can use Feast in a production setting\n",
    "\n",
    "This tutorial uses Feast with scikit learn to:\n",
    "\n",
    "* Train a model locally using data from BigQuery\n",
    "* Test the model for online inference using SQLite (for fast iteration)\n",
    "* Test the model for online inference using Firestore (to represent production)\n",
    " "
   ]
  },
  {
   "cell_type": "markdown",
   "metadata": {
    "id": "P8pFSVUp34W5"
   },
   "source": [
    "# step1: 初始化feast"
   ]
  },
  {
   "cell_type": "code",
   "execution_count": null,
   "metadata": {},
   "outputs": [],
   "source": [
    "!pip install feast"
   ]
  },
  {
   "cell_type": "code",
   "execution_count": 1,
   "metadata": {
    "colab": {
     "base_uri": "https://localhost:8080/"
    },
    "id": "cOSAfdZiUnFa",
    "outputId": "2462ce77-242b-4018-b5d6-fd0baa239836"
   },
   "outputs": [
    {
     "name": "stdout",
     "output_type": "stream",
     "text": [
      "Feast SDK Version: \"feast 0.12.1\"\n"
     ]
    }
   ],
   "source": [
    "!feast version "
   ]
  },
  {
   "cell_type": "code",
   "execution_count": 112,
   "metadata": {},
   "outputs": [],
   "source": [
    "import pandas as pd\n",
    "import os"
   ]
  },
  {
   "cell_type": "code",
   "execution_count": 113,
   "metadata": {},
   "outputs": [],
   "source": [
    "# 查看下训练结果集，包含了特征和时间戳\n",
    "training_data = pd.read_parquet('./driver_ranking/data/driver_stats.parquet')"
   ]
  },
  {
   "cell_type": "code",
   "execution_count": 114,
   "metadata": {},
   "outputs": [
    {
     "data": {
      "text/html": [
       "<div>\n",
       "<style scoped>\n",
       "    .dataframe tbody tr th:only-of-type {\n",
       "        vertical-align: middle;\n",
       "    }\n",
       "\n",
       "    .dataframe tbody tr th {\n",
       "        vertical-align: top;\n",
       "    }\n",
       "\n",
       "    .dataframe thead th {\n",
       "        text-align: right;\n",
       "    }\n",
       "</style>\n",
       "<table border=\"1\" class=\"dataframe\">\n",
       "  <thead>\n",
       "    <tr style=\"text-align: right;\">\n",
       "      <th></th>\n",
       "      <th>event_timestamp</th>\n",
       "      <th>driver_id</th>\n",
       "      <th>conv_rate</th>\n",
       "      <th>acc_rate</th>\n",
       "      <th>avg_daily_trips</th>\n",
       "      <th>created</th>\n",
       "    </tr>\n",
       "  </thead>\n",
       "  <tbody>\n",
       "    <tr>\n",
       "      <th>0</th>\n",
       "      <td>2021-08-16 17:00:00+00:00</td>\n",
       "      <td>1005</td>\n",
       "      <td>0.864365</td>\n",
       "      <td>0.377320</td>\n",
       "      <td>642</td>\n",
       "      <td>2021-08-31 17:46:34.640</td>\n",
       "    </tr>\n",
       "    <tr>\n",
       "      <th>1</th>\n",
       "      <td>2021-08-16 18:00:00+00:00</td>\n",
       "      <td>1005</td>\n",
       "      <td>0.493151</td>\n",
       "      <td>0.302525</td>\n",
       "      <td>833</td>\n",
       "      <td>2021-08-31 17:46:34.640</td>\n",
       "    </tr>\n",
       "    <tr>\n",
       "      <th>2</th>\n",
       "      <td>2021-08-16 19:00:00+00:00</td>\n",
       "      <td>1005</td>\n",
       "      <td>0.267367</td>\n",
       "      <td>0.537665</td>\n",
       "      <td>431</td>\n",
       "      <td>2021-08-31 17:46:34.640</td>\n",
       "    </tr>\n",
       "    <tr>\n",
       "      <th>3</th>\n",
       "      <td>2021-08-16 20:00:00+00:00</td>\n",
       "      <td>1005</td>\n",
       "      <td>0.347099</td>\n",
       "      <td>0.674669</td>\n",
       "      <td>94</td>\n",
       "      <td>2021-08-31 17:46:34.640</td>\n",
       "    </tr>\n",
       "    <tr>\n",
       "      <th>4</th>\n",
       "      <td>2021-08-16 21:00:00+00:00</td>\n",
       "      <td>1005</td>\n",
       "      <td>0.899930</td>\n",
       "      <td>0.011923</td>\n",
       "      <td>882</td>\n",
       "      <td>2021-08-31 17:46:34.640</td>\n",
       "    </tr>\n",
       "  </tbody>\n",
       "</table>\n",
       "</div>"
      ],
      "text/plain": [
       "            event_timestamp  driver_id  conv_rate  acc_rate  avg_daily_trips  \\\n",
       "0 2021-08-16 17:00:00+00:00       1005   0.864365  0.377320              642   \n",
       "1 2021-08-16 18:00:00+00:00       1005   0.493151  0.302525              833   \n",
       "2 2021-08-16 19:00:00+00:00       1005   0.267367  0.537665              431   \n",
       "3 2021-08-16 20:00:00+00:00       1005   0.347099  0.674669               94   \n",
       "4 2021-08-16 21:00:00+00:00       1005   0.899930  0.011923              882   \n",
       "\n",
       "                  created  \n",
       "0 2021-08-31 17:46:34.640  \n",
       "1 2021-08-31 17:46:34.640  \n",
       "2 2021-08-31 17:46:34.640  \n",
       "3 2021-08-31 17:46:34.640  \n",
       "4 2021-08-31 17:46:34.640  "
      ]
     },
     "execution_count": 114,
     "metadata": {},
     "output_type": "execute_result"
    }
   ],
   "source": [
    "training_data.head(5)"
   ]
  },
  {
   "cell_type": "code",
   "execution_count": 116,
   "metadata": {},
   "outputs": [
    {
     "data": {
      "text/plain": [
       "count                                   1807\n",
       "mean     2021-08-23 19:36:31.477587200+00:00\n",
       "min                2021-04-12 07:00:00+00:00\n",
       "25%                2021-08-20 10:00:00+00:00\n",
       "50%                2021-08-24 04:00:00+00:00\n",
       "75%                2021-08-27 22:00:00+00:00\n",
       "max                2021-08-31 16:00:00+00:00\n",
       "Name: event_timestamp, dtype: object"
      ]
     },
     "execution_count": 116,
     "metadata": {},
     "output_type": "execute_result"
    }
   ],
   "source": [
    "training_data.event_timestamp.describe(datetime_is_numeric=True)"
   ]
  },
  {
   "cell_type": "code",
   "execution_count": 119,
   "metadata": {},
   "outputs": [
    {
     "data": {
      "text/html": [
       "<div>\n",
       "<style scoped>\n",
       "    .dataframe tbody tr th:only-of-type {\n",
       "        vertical-align: middle;\n",
       "    }\n",
       "\n",
       "    .dataframe tbody tr th {\n",
       "        vertical-align: top;\n",
       "    }\n",
       "\n",
       "    .dataframe thead th {\n",
       "        text-align: right;\n",
       "    }\n",
       "</style>\n",
       "<table border=\"1\" class=\"dataframe\">\n",
       "  <thead>\n",
       "    <tr style=\"text-align: right;\">\n",
       "      <th></th>\n",
       "      <th>event_timestamp</th>\n",
       "      <th>driver_id</th>\n",
       "      <th>conv_rate</th>\n",
       "      <th>acc_rate</th>\n",
       "      <th>avg_daily_trips</th>\n",
       "      <th>created</th>\n",
       "    </tr>\n",
       "  </thead>\n",
       "  <tbody>\n",
       "    <tr>\n",
       "      <th>1444</th>\n",
       "      <td>2021-08-16 17:00:00+00:00</td>\n",
       "      <td>1001</td>\n",
       "      <td>0.937720</td>\n",
       "      <td>0.799825</td>\n",
       "      <td>897</td>\n",
       "      <td>2021-08-31 17:46:34.640</td>\n",
       "    </tr>\n",
       "    <tr>\n",
       "      <th>1445</th>\n",
       "      <td>2021-08-16 18:00:00+00:00</td>\n",
       "      <td>1001</td>\n",
       "      <td>0.022976</td>\n",
       "      <td>0.403809</td>\n",
       "      <td>317</td>\n",
       "      <td>2021-08-31 17:46:34.640</td>\n",
       "    </tr>\n",
       "    <tr>\n",
       "      <th>1446</th>\n",
       "      <td>2021-08-16 19:00:00+00:00</td>\n",
       "      <td>1001</td>\n",
       "      <td>0.882327</td>\n",
       "      <td>0.387132</td>\n",
       "      <td>477</td>\n",
       "      <td>2021-08-31 17:46:34.640</td>\n",
       "    </tr>\n",
       "    <tr>\n",
       "      <th>1447</th>\n",
       "      <td>2021-08-16 20:00:00+00:00</td>\n",
       "      <td>1001</td>\n",
       "      <td>0.846462</td>\n",
       "      <td>0.313911</td>\n",
       "      <td>612</td>\n",
       "      <td>2021-08-31 17:46:34.640</td>\n",
       "    </tr>\n",
       "    <tr>\n",
       "      <th>1448</th>\n",
       "      <td>2021-08-16 21:00:00+00:00</td>\n",
       "      <td>1001</td>\n",
       "      <td>0.892155</td>\n",
       "      <td>0.636727</td>\n",
       "      <td>15</td>\n",
       "      <td>2021-08-31 17:46:34.640</td>\n",
       "    </tr>\n",
       "  </tbody>\n",
       "</table>\n",
       "</div>"
      ],
      "text/plain": [
       "               event_timestamp  driver_id  conv_rate  acc_rate  \\\n",
       "1444 2021-08-16 17:00:00+00:00       1001   0.937720  0.799825   \n",
       "1445 2021-08-16 18:00:00+00:00       1001   0.022976  0.403809   \n",
       "1446 2021-08-16 19:00:00+00:00       1001   0.882327  0.387132   \n",
       "1447 2021-08-16 20:00:00+00:00       1001   0.846462  0.313911   \n",
       "1448 2021-08-16 21:00:00+00:00       1001   0.892155  0.636727   \n",
       "\n",
       "      avg_daily_trips                 created  \n",
       "1444              897 2021-08-31 17:46:34.640  \n",
       "1445              317 2021-08-31 17:46:34.640  \n",
       "1446              477 2021-08-31 17:46:34.640  \n",
       "1447              612 2021-08-31 17:46:34.640  \n",
       "1448               15 2021-08-31 17:46:34.640  "
      ]
     },
     "execution_count": 119,
     "metadata": {},
     "output_type": "execute_result"
    }
   ],
   "source": [
    "training_data[training_data.driver_id==1001].head(5)"
   ]
  },
  {
   "cell_type": "code",
   "execution_count": 121,
   "metadata": {},
   "outputs": [
    {
     "name": "stdout",
     "output_type": "stream",
     "text": [
      "/Users/pengju.pan/gitcode/feast-driver-ranking-tutorial\n"
     ]
    }
   ],
   "source": [
    "!pwd"
   ]
  },
  {
   "cell_type": "markdown",
   "metadata": {
    "id": "ohWMCVhS5PPN"
   },
   "source": [
    "# Step 2: 初始化配置并发布\n",
    "`feast apply` scans python files in the current directory for feature definitions and deploys infrastructure according to `feature_store.yaml` \n",
    "\n",
    "`feast init` 慎用，不要重复多次启动`feast init`，否则就会重复产生 registry.db文件，会导致初始化无法成功；"
   ]
  },
  {
   "cell_type": "code",
   "execution_count": 123,
   "metadata": {
    "colab": {
     "base_uri": "https://localhost:8080/"
    },
    "id": "izhTk0WWX3Tx",
    "outputId": "444a11d3-db43-4170-c28b-51d6ea618660"
   },
   "outputs": [
    {
     "name": "stdout",
     "output_type": "stream",
     "text": [
      "\n",
      "Creating a new Feast repository in \u001b[1m\u001b[32m/Users/pengju.pan/gitcode/feast-driver-ranking-tutorial/driver_ranking/good_dolphin\u001b[0m.\n",
      "\n"
     ]
    }
   ],
   "source": [
    "!cd ./driver_ranking/ & feast teardown & rm -rf .ipynb_checkpoits/"
   ]
  },
  {
   "cell_type": "markdown",
   "metadata": {},
   "source": [
    "备注： \n",
    "1. `feast teardown` 要非常谨慎的使用，如果使用了`feast init`，想更新配置，则要先执行`feast teardown` 删除了旧版本的设置\n",
    "2. `feast teardown`之后，执行 `rm -rf .ipynb_checkpoits/ `命令，把notebook的中间结果都删除掉；\n",
    "3. todo: `registry.db` 能够复用吗？怎么操作"
   ]
  },
  {
   "cell_type": "code",
   "execution_count": 125,
   "metadata": {},
   "outputs": [
    {
     "name": "stdout",
     "output_type": "stream",
     "text": [
      "\n",
      "Creating a new Feast repository in \u001b[1m\u001b[32m/Users/pengju.pan/gitcode/feast-driver-ranking-tutorial/driver_ranking/unique_heron\u001b[0m.\n",
      "\n",
      "Traceback (most recent call last):\n",
      "  File \"/Users/pengju.pan/opt/anaconda3/bin/feast\", line 8, in <module>\n",
      "    sys.exit(cli())\n",
      "  File \"/Users/pengju.pan/opt/anaconda3/lib/python3.8/site-packages/click/core.py\", line 829, in __call__\n",
      "    return self.main(*args, **kwargs)\n",
      "  File \"/Users/pengju.pan/opt/anaconda3/lib/python3.8/site-packages/click/core.py\", line 782, in main\n",
      "    rv = self.invoke(ctx)\n",
      "  File \"/Users/pengju.pan/opt/anaconda3/lib/python3.8/site-packages/click/core.py\", line 1259, in invoke\n",
      "    return _process_result(sub_ctx.command.invoke(sub_ctx))\n",
      "  File \"/Users/pengju.pan/opt/anaconda3/lib/python3.8/site-packages/click/core.py\", line 1066, in invoke\n",
      "    return ctx.invoke(self.callback, **ctx.params)\n",
      "  File \"/Users/pengju.pan/opt/anaconda3/lib/python3.8/site-packages/click/core.py\", line 610, in invoke\n",
      "    return callback(*args, **kwargs)\n",
      "  File \"/Users/pengju.pan/opt/anaconda3/lib/python3.8/site-packages/click/decorators.py\", line 21, in new_func\n",
      "    return f(get_current_context(), *args, **kwargs)\n",
      "  File \"/Users/pengju.pan/opt/anaconda3/lib/python3.8/site-packages/feast/cli.py\", line 254, in apply_total_command\n",
      "    apply_total(repo_config, repo, skip_source_validation)\n",
      "  File \"/Users/pengju.pan/opt/anaconda3/lib/python3.8/site-packages/feast/usage.py\", line 151, in exception_logging_wrapper\n",
      "    result = func(*args, **kwargs)\n",
      "  File \"/Users/pengju.pan/opt/anaconda3/lib/python3.8/site-packages/feast/repo_operations.py\", line 132, in apply_total\n",
      "    _validate_feature_views(repo.feature_views)\n",
      "  File \"/Users/pengju.pan/opt/anaconda3/lib/python3.8/site-packages/feast/feature_store.py\", line 990, in _validate_feature_views\n",
      "    raise ValueError(\n",
      "ValueError: More than one feature view with name driver_hourly_stats found. Please ensure that all feature view names are unique. It may be necessary to ignore certain files in your feature repository by using a .feastignore file.\n"
     ]
    }
   ],
   "source": [
    "!cd ./driver_ranking/ & feast apply"
   ]
  },
  {
   "cell_type": "markdown",
   "metadata": {},
   "source": []
  },
  {
   "cell_type": "markdown",
   "metadata": {
    "id": "lJlrf2Iu53BR"
   },
   "source": [
    "查看下生成的结果"
   ]
  },
  {
   "cell_type": "code",
   "execution_count": 60,
   "metadata": {
    "colab": {
     "base_uri": "https://localhost:8080/"
    },
    "id": "IrJ6gqtdmKk7",
    "outputId": "db32950c-9a73-4c06-fde3-52c753929c9b"
   },
   "outputs": [
    {
     "name": "stdout",
     "output_type": "stream",
     "text": [
      "total 16\n",
      "drwxr-xr-x  6 pengju.pan  FAREAST\\Domain Users   192  8 31 20:02 \u001b[34mdata\u001b[m\u001b[m\n",
      "-rw-r--r--@ 1 pengju.pan  FAREAST\\Domain Users  1162  8 31 19:53 driver_repo.py\n",
      "-rw-r--r--@ 1 pengju.pan  FAREAST\\Domain Users   112  8 31 17:46 feature_store.yaml\n"
     ]
    }
   ],
   "source": [
    "!cd ./driver_ranking/ & ls -l"
   ]
  },
  {
   "cell_type": "code",
   "execution_count": 61,
   "metadata": {},
   "outputs": [
    {
     "data": {
      "text/html": [
       "<div>\n",
       "<style scoped>\n",
       "    .dataframe tbody tr th:only-of-type {\n",
       "        vertical-align: middle;\n",
       "    }\n",
       "\n",
       "    .dataframe tbody tr th {\n",
       "        vertical-align: top;\n",
       "    }\n",
       "\n",
       "    .dataframe thead th {\n",
       "        text-align: right;\n",
       "    }\n",
       "</style>\n",
       "<table border=\"1\" class=\"dataframe\">\n",
       "  <thead>\n",
       "    <tr style=\"text-align: right;\">\n",
       "      <th></th>\n",
       "      <th>event_timestamp</th>\n",
       "      <th>driver_id</th>\n",
       "      <th>trip_completed</th>\n",
       "    </tr>\n",
       "  </thead>\n",
       "  <tbody>\n",
       "    <tr>\n",
       "      <th>0</th>\n",
       "      <td>2021-04-16 20:29:28+00:00</td>\n",
       "      <td>1001</td>\n",
       "      <td>1</td>\n",
       "    </tr>\n",
       "    <tr>\n",
       "      <th>3</th>\n",
       "      <td>2021-04-17 20:29:28+00:00</td>\n",
       "      <td>1001</td>\n",
       "      <td>1</td>\n",
       "    </tr>\n",
       "    <tr>\n",
       "      <th>6</th>\n",
       "      <td>2021-04-18 20:29:28+00:00</td>\n",
       "      <td>1001</td>\n",
       "      <td>1</td>\n",
       "    </tr>\n",
       "  </tbody>\n",
       "</table>\n",
       "</div>"
      ],
      "text/plain": [
       "            event_timestamp  driver_id  trip_completed\n",
       "0 2021-04-16 20:29:28+00:00       1001               1\n",
       "3 2021-04-17 20:29:28+00:00       1001               1\n",
       "6 2021-04-18 20:29:28+00:00       1001               1"
      ]
     },
     "execution_count": 61,
     "metadata": {},
     "output_type": "execute_result"
    }
   ],
   "source": [
    "# 查看订单结果，以driver_id作为主键，timestamp作为join条件\n",
    "orders = pd.read_csv(\"./driver_orders.csv\", sep=\"\\t\")\n",
    "orders[\"event_timestamp\"] = pd.to_datetime(orders[\"event_timestamp\"])\n",
    "orders[orders['driver_id']==1001].head(5)"
   ]
  },
  {
   "cell_type": "code",
   "execution_count": 62,
   "metadata": {},
   "outputs": [
    {
     "data": {
      "text/plain": [
       "0   2021-04-16 20:29:28+00:00\n",
       "1   2021-04-17 04:29:28+00:00\n",
       "2   2021-04-17 12:29:28+00:00\n",
       "3   2021-04-17 20:29:28+00:00\n",
       "4   2021-04-18 04:29:28+00:00\n",
       "5   2021-04-18 12:29:28+00:00\n",
       "6   2021-04-18 20:29:28+00:00\n",
       "7   2021-04-19 04:29:28+00:00\n",
       "8   2021-04-19 12:29:28+00:00\n",
       "9   2021-04-19 20:29:28+00:00\n",
       "Name: event_timestamp, dtype: datetime64[ns, UTC]"
      ]
     },
     "execution_count": 62,
     "metadata": {},
     "output_type": "execute_result"
    }
   ],
   "source": [
    "orders.event_timestamp"
   ]
  },
  {
   "cell_type": "markdown",
   "metadata": {
    "id": "bHBfTEau6Qt9"
   },
   "source": [
    "# Step 3: 训练模型"
   ]
  },
  {
   "cell_type": "code",
   "execution_count": 130,
   "metadata": {
    "colab": {
     "base_uri": "https://localhost:8080/"
    },
    "id": "F-Pc4Jo4kzBL",
    "outputId": "6414795f-9330-44b3-ee5c-992c9dd55db7"
   },
   "outputs": [
    {
     "data": {
      "text/html": [
       "<div>\n",
       "<style scoped>\n",
       "    .dataframe tbody tr th:only-of-type {\n",
       "        vertical-align: middle;\n",
       "    }\n",
       "\n",
       "    .dataframe tbody tr th {\n",
       "        vertical-align: top;\n",
       "    }\n",
       "\n",
       "    .dataframe thead th {\n",
       "        text-align: right;\n",
       "    }\n",
       "</style>\n",
       "<table border=\"1\" class=\"dataframe\">\n",
       "  <thead>\n",
       "    <tr style=\"text-align: right;\">\n",
       "      <th></th>\n",
       "      <th>event_timestamp</th>\n",
       "      <th>driver_id</th>\n",
       "      <th>trip_completed</th>\n",
       "    </tr>\n",
       "  </thead>\n",
       "  <tbody>\n",
       "    <tr>\n",
       "      <th>0</th>\n",
       "      <td>2021-04-16 20:29:28+00:00</td>\n",
       "      <td>1001</td>\n",
       "      <td>1</td>\n",
       "    </tr>\n",
       "    <tr>\n",
       "      <th>1</th>\n",
       "      <td>2021-04-17 04:29:28+00:00</td>\n",
       "      <td>1002</td>\n",
       "      <td>0</td>\n",
       "    </tr>\n",
       "    <tr>\n",
       "      <th>2</th>\n",
       "      <td>2021-04-17 12:29:28+00:00</td>\n",
       "      <td>1003</td>\n",
       "      <td>0</td>\n",
       "    </tr>\n",
       "    <tr>\n",
       "      <th>3</th>\n",
       "      <td>2021-04-17 20:29:28+00:00</td>\n",
       "      <td>1001</td>\n",
       "      <td>1</td>\n",
       "    </tr>\n",
       "    <tr>\n",
       "      <th>4</th>\n",
       "      <td>2021-04-18 04:29:28+00:00</td>\n",
       "      <td>1002</td>\n",
       "      <td>0</td>\n",
       "    </tr>\n",
       "  </tbody>\n",
       "</table>\n",
       "</div>"
      ],
      "text/plain": [
       "            event_timestamp  driver_id  trip_completed\n",
       "0 2021-04-16 20:29:28+00:00       1001               1\n",
       "1 2021-04-17 04:29:28+00:00       1002               0\n",
       "2 2021-04-17 12:29:28+00:00       1003               0\n",
       "3 2021-04-17 20:29:28+00:00       1001               1\n",
       "4 2021-04-18 04:29:28+00:00       1002               0"
      ]
     },
     "execution_count": 130,
     "metadata": {},
     "output_type": "execute_result"
    }
   ],
   "source": [
    "import feast\n",
    "from joblib import dump\n",
    "import pandas as pd\n",
    "from sklearn.linear_model import LinearRegression\n",
    "\n",
    "# Load driver order data\n",
    "orders = pd.read_csv(\"./driver_orders.csv\", sep=\"\\t\")\n",
    "orders[\"event_timestamp\"] = pd.to_datetime(orders[\"event_timestamp\"])\n",
    "orders.head(5)"
   ]
  },
  {
   "cell_type": "code",
   "execution_count": null,
   "metadata": {},
   "outputs": [],
   "source": [
    "# Connect to your feature store provider\n",
    "fs = feast.FeatureStore(repo_path=\"./driver_ranking/\")\n",
    "\n",
    "# Retrieve training data from localfile\n",
    "training_df = fs.get_historical_features(\n",
    "    entity_df=orders,\n",
    "    features=[\n",
    "        \"driver_hourly_stats:conv_rate\",\n",
    "        \"driver_hourly_stats:acc_rate\",\n",
    "        \"driver_hourly_stats:avg_daily_trips\",\n",
    "    ],\n",
    ").to_df()"
   ]
  },
  {
   "cell_type": "code",
   "execution_count": 64,
   "metadata": {},
   "outputs": [],
   "source": [
    "training_df = training_df.fillna(0)"
   ]
  },
  {
   "cell_type": "code",
   "execution_count": 131,
   "metadata": {},
   "outputs": [
    {
     "data": {
      "text/html": [
       "<div>\n",
       "<style scoped>\n",
       "    .dataframe tbody tr th:only-of-type {\n",
       "        vertical-align: middle;\n",
       "    }\n",
       "\n",
       "    .dataframe tbody tr th {\n",
       "        vertical-align: top;\n",
       "    }\n",
       "\n",
       "    .dataframe thead th {\n",
       "        text-align: right;\n",
       "    }\n",
       "</style>\n",
       "<table border=\"1\" class=\"dataframe\">\n",
       "  <thead>\n",
       "    <tr style=\"text-align: right;\">\n",
       "      <th></th>\n",
       "      <th>event_timestamp</th>\n",
       "      <th>driver_id</th>\n",
       "      <th>trip_completed</th>\n",
       "      <th>conv_rate</th>\n",
       "      <th>acc_rate</th>\n",
       "      <th>avg_daily_trips</th>\n",
       "    </tr>\n",
       "  </thead>\n",
       "  <tbody>\n",
       "    <tr>\n",
       "      <th>0</th>\n",
       "      <td>2021-04-16 20:29:28+00:00</td>\n",
       "      <td>1001</td>\n",
       "      <td>1</td>\n",
       "      <td>0.376489</td>\n",
       "      <td>0.433404</td>\n",
       "      <td>830</td>\n",
       "    </tr>\n",
       "    <tr>\n",
       "      <th>1</th>\n",
       "      <td>2021-04-17 04:29:28+00:00</td>\n",
       "      <td>1002</td>\n",
       "      <td>0</td>\n",
       "      <td>0.462278</td>\n",
       "      <td>0.299526</td>\n",
       "      <td>222</td>\n",
       "    </tr>\n",
       "    <tr>\n",
       "      <th>2</th>\n",
       "      <td>2021-04-17 12:29:28+00:00</td>\n",
       "      <td>1003</td>\n",
       "      <td>0</td>\n",
       "      <td>0.882432</td>\n",
       "      <td>0.208917</td>\n",
       "      <td>710</td>\n",
       "    </tr>\n",
       "    <tr>\n",
       "      <th>3</th>\n",
       "      <td>2021-04-17 20:29:28+00:00</td>\n",
       "      <td>1001</td>\n",
       "      <td>1</td>\n",
       "      <td>0.376489</td>\n",
       "      <td>0.433404</td>\n",
       "      <td>830</td>\n",
       "    </tr>\n",
       "    <tr>\n",
       "      <th>4</th>\n",
       "      <td>2021-04-18 04:29:28+00:00</td>\n",
       "      <td>1002</td>\n",
       "      <td>0</td>\n",
       "      <td>0.462278</td>\n",
       "      <td>0.299526</td>\n",
       "      <td>222</td>\n",
       "    </tr>\n",
       "  </tbody>\n",
       "</table>\n",
       "</div>"
      ],
      "text/plain": [
       "            event_timestamp  driver_id  trip_completed  conv_rate  acc_rate  \\\n",
       "0 2021-04-16 20:29:28+00:00       1001               1   0.376489  0.433404   \n",
       "1 2021-04-17 04:29:28+00:00       1002               0   0.462278  0.299526   \n",
       "2 2021-04-17 12:29:28+00:00       1003               0   0.882432  0.208917   \n",
       "3 2021-04-17 20:29:28+00:00       1001               1   0.376489  0.433404   \n",
       "4 2021-04-18 04:29:28+00:00       1002               0   0.462278  0.299526   \n",
       "\n",
       "   avg_daily_trips  \n",
       "0              830  \n",
       "1              222  \n",
       "2              710  \n",
       "3              830  \n",
       "4              222  "
      ]
     },
     "execution_count": 131,
     "metadata": {},
     "output_type": "execute_result"
    }
   ],
   "source": [
    "training_df.head(5)"
   ]
  },
  {
   "cell_type": "code",
   "execution_count": 82,
   "metadata": {},
   "outputs": [
    {
     "name": "stdout",
     "output_type": "stream",
     "text": [
      "----- Feature schema -----\n",
      "\n",
      "<class 'pandas.core.frame.DataFrame'>\n",
      "Int64Index: 10 entries, 0 to 9\n",
      "Data columns (total 6 columns):\n",
      " #   Column           Non-Null Count  Dtype              \n",
      "---  ------           --------------  -----              \n",
      " 0   event_timestamp  10 non-null     datetime64[ns, UTC]\n",
      " 1   driver_id        10 non-null     int64              \n",
      " 2   trip_completed   10 non-null     int64              \n",
      " 3   conv_rate        10 non-null     float32            \n",
      " 4   acc_rate         10 non-null     float32            \n",
      " 5   avg_daily_trips  10 non-null     int32              \n",
      "dtypes: datetime64[ns, UTC](1), float32(2), int32(1), int64(2)\n",
      "memory usage: 440.0 bytes\n",
      "None\n",
      "\n",
      "----- Example features -----\n",
      "\n",
      "            event_timestamp  driver_id  trip_completed  conv_rate  acc_rate  \\\n",
      "0 2021-04-16 20:29:28+00:00       1001               1   0.376489  0.433404   \n",
      "1 2021-04-17 04:29:28+00:00       1002               0   0.462278  0.299526   \n",
      "2 2021-04-17 12:29:28+00:00       1003               0   0.882432  0.208917   \n",
      "3 2021-04-17 20:29:28+00:00       1001               1   0.376489  0.433404   \n",
      "4 2021-04-18 04:29:28+00:00       1002               0   0.462278  0.299526   \n",
      "\n",
      "   avg_daily_trips  \n",
      "0              830  \n",
      "1              222  \n",
      "2              710  \n",
      "3              830  \n",
      "4              222  \n"
     ]
    },
    {
     "data": {
      "text/plain": [
       "['driver_model.bin']"
      ]
     },
     "execution_count": 82,
     "metadata": {},
     "output_type": "execute_result"
    }
   ],
   "source": [
    "print(\"----- Feature schema -----\\n\")\n",
    "print(training_df.info())\n",
    "\n",
    "print()\n",
    "print(\"----- Example features -----\\n\")\n",
    "print(training_df.head())\n",
    "\n",
    "# Train model\n",
    "target = \"trip_completed\"\n",
    "\n",
    "reg = LinearRegression()\n",
    "train_X = training_df[training_df.columns.drop(target).drop(\"event_timestamp\")]\n",
    "train_Y = training_df.loc[:, target]\n",
    "reg.fit(train_X[sorted(train_X)], train_Y)\n",
    "\n",
    "# Save model\n",
    "dump(reg, \"driver_model.bin\")"
   ]
  },
  {
   "cell_type": "markdown",
   "metadata": {
    "id": "HpHacyo47Are"
   },
   "source": [
    "# Step 4: 增量更新Featuremap\n",
    "Change the provider field in `driver_ranking/feature_store.yam` from `local` to `gcp` \n",
    "保证本地的文件格式和线上的是一样的，直接可以修改访问本地结果到线上的结果"
   ]
  },
  {
   "cell_type": "code",
   "execution_count": 83,
   "metadata": {
    "colab": {
     "base_uri": "https://localhost:8080/"
    },
    "id": "67627WRSajIk",
    "outputId": "056ce886-36a5-48dc-dcbb-23e032695708"
   },
   "outputs": [
    {
     "name": "stdout",
     "output_type": "stream",
     "text": [
      "Materializing \u001b[1m\u001b[32m1\u001b[0m feature views to \u001b[1m\u001b[32m2022-01-01 08:00:00+08:00\u001b[0m into the \u001b[1m\u001b[32msqlite\u001b[0m online store.\n",
      "\n",
      "\u001b[1m\u001b[32mdriver_hourly_stats\u001b[0m from \u001b[1m\u001b[32m2020-09-01 12:10:50+08:00\u001b[0m to \u001b[1m\u001b[32m2022-01-01 08:00:00+08:00\u001b[0m:\n",
      "100%|███████████████████████████████████████████████████████████████| 5/5 [00:00<00:00, 1333.73it/s]\n"
     ]
    }
   ],
   "source": [
    "!cd ./driver_ranking/ && feast materialize-incremental 2022-01-01T00:00:00"
   ]
  },
  {
   "cell_type": "markdown",
   "metadata": {
    "id": "-869cxQO2ana"
   },
   "source": [
    "# Step 5:  结果预测"
   ]
  },
  {
   "cell_type": "code",
   "execution_count": 97,
   "metadata": {
    "id": "VP85XeGFzNYl"
   },
   "outputs": [],
   "source": [
    "import pandas as pd\n",
    "import feast\n",
    "from joblib import load\n",
    "import os\n",
    "\n",
    "os.chdir('/Users/pengju.pan/gitcode/feast-driver-ranking-tutorial')\n",
    "\n",
    "class DriverRankingModel:\n",
    "    def __init__(self):\n",
    "        # Load model\n",
    "        self.model = load(\"./driver_model.bin\")\n",
    "\n",
    "        # Set up feature store\n",
    "        self.fs = feast.FeatureStore(repo_path=\"./driver_ranking/\")\n",
    "\n",
    "    def predict(self, driver_ids):\n",
    "        # Read features from Feast\n",
    "        driver_features = self.fs.get_online_features(\n",
    "            entity_rows=[{\"driver_id\": driver_id} for driver_id in driver_ids],\n",
    "            features=[\n",
    "                \"driver_hourly_stats:conv_rate\",\n",
    "                \"driver_hourly_stats:acc_rate\",\n",
    "                \"driver_hourly_stats:avg_daily_trips\",\n",
    "            ],\n",
    "        )\n",
    "        df = pd.DataFrame.from_dict(driver_features.to_dict())\n",
    "\n",
    "        # Make prediction\n",
    "        df[\"prediction\"] = self.model.predict(df[sorted(df)])\n",
    "\n",
    "        # Choose best driver\n",
    "        best_driver_id = df[\"driver_id\"].iloc[df[\"prediction\"].argmax()]\n",
    "\n",
    "        # return best driver\n",
    "        return best_driver_id,df"
   ]
  },
  {
   "cell_type": "code",
   "execution_count": 101,
   "metadata": {
    "id": "f9AJ842Rk3E9"
   },
   "outputs": [],
   "source": [
    "def make_drivers_prediction():\n",
    "    drivers = [1001, 1002, 1003, 1004]\n",
    "    model = DriverRankingModel()\n",
    "    best_driver, result = model.predict(drivers)\n",
    "    print(f\"Prediction for best driver id: {best_driver} \\n Finnal result: \\n {result}\")"
   ]
  },
  {
   "cell_type": "code",
   "execution_count": 102,
   "metadata": {
    "colab": {
     "base_uri": "https://localhost:8080/"
    },
    "id": "lq2TNXfjbb8e",
    "outputId": "7c163361-491b-4eb7-87e0-6b68eccc9030"
   },
   "outputs": [
    {
     "name": "stdout",
     "output_type": "stream",
     "text": [
      "Prediction for best driver id: 1001 \n",
      " Finnal result: \n",
      "    driver_id  avg_daily_trips  conv_rate  acc_rate  prediction\n",
      "0       1001              728   0.392329  0.528932    1.186537\n",
      "1       1002               97   0.926635  0.664744    0.945375\n",
      "2       1003              877   0.392009  0.547194    1.041685\n",
      "3       1004              528   0.045298  0.028153   -0.852128\n"
     ]
    }
   ],
   "source": [
    "make_drivers_prediction()"
   ]
  },
  {
   "cell_type": "code",
   "execution_count": null,
   "metadata": {},
   "outputs": [],
   "source": []
  },
  {
   "cell_type": "markdown",
   "metadata": {},
   "source": [
    "# step 6 查看registry的注册结果"
   ]
  },
  {
   "cell_type": "code",
   "execution_count": 144,
   "metadata": {},
   "outputs": [],
   "source": [
    "import sqlite3"
   ]
  },
  {
   "cell_type": "code",
   "execution_count": 145,
   "metadata": {},
   "outputs": [],
   "source": [
    "reg_conn = sqlite3.connect('./driver_ranking/data/registry.db')"
   ]
  },
  {
   "cell_type": "code",
   "execution_count": 152,
   "metadata": {},
   "outputs": [
    {
     "ename": "DatabaseError",
     "evalue": "file is not a database",
     "output_type": "error",
     "traceback": [
      "\u001b[0;31m---------------------------------------------------------------------------\u001b[0m",
      "\u001b[0;31mDatabaseError\u001b[0m                             Traceback (most recent call last)",
      "\u001b[0;32m/var/folders/qx/mbj7t0rj0bz_g_dcwytyjjtwzpjf4z/T/ipykernel_21803/2592357476.py\u001b[0m in \u001b[0;36m<module>\u001b[0;34m\u001b[0m\n\u001b[1;32m      1\u001b[0m \u001b[0mcsr\u001b[0m \u001b[0;34m=\u001b[0m \u001b[0mreg_conn\u001b[0m\u001b[0;34m.\u001b[0m\u001b[0mcursor\u001b[0m\u001b[0;34m(\u001b[0m\u001b[0;34m)\u001b[0m\u001b[0;34m\u001b[0m\u001b[0;34m\u001b[0m\u001b[0m\n\u001b[0;32m----> 2\u001b[0;31m \u001b[0mcsr\u001b[0m\u001b[0;34m.\u001b[0m\u001b[0mexecute\u001b[0m\u001b[0;34m(\u001b[0m\u001b[0;34m\"\"\"SELECT name FROM sqlite_master WHERE type='table';\"\"\"\u001b[0m\u001b[0;34m)\u001b[0m\u001b[0;34m\u001b[0m\u001b[0;34m\u001b[0m\u001b[0m\n\u001b[0m\u001b[1;32m      3\u001b[0m \u001b[0mprint\u001b[0m\u001b[0;34m(\u001b[0m\u001b[0mcsr\u001b[0m\u001b[0;34m.\u001b[0m\u001b[0mfetchall\u001b[0m\u001b[0;34m(\u001b[0m\u001b[0;34m)\u001b[0m\u001b[0;34m)\u001b[0m\u001b[0;34m\u001b[0m\u001b[0;34m\u001b[0m\u001b[0m\n",
      "\u001b[0;31mDatabaseError\u001b[0m: file is not a database"
     ]
    }
   ],
   "source": [
    "csr = reg_conn.cursor()\n",
    "csr.execute(\"\"\"SELECT name FROM sqlite_master WHERE type='table';\"\"\")\n",
    "print(csr.fetchall())"
   ]
  },
  {
   "cell_type": "code",
   "execution_count": null,
   "metadata": {},
   "outputs": [],
   "source": [
    "    def get_registry_proto(self):\n",
    "        registry_proto = RegistryProto()\n",
    "        if self._filepath.exists():\n",
    "            registry_proto.ParseFromString(self._filepath.read_bytes())\n",
    "            return registry_proto"
   ]
  }
 ],
 "metadata": {
  "colab": {
   "authorship_tag": "ABX9TyPxfJo7miJVPRo4IDVQvAqB",
   "collapsed_sections": [],
   "include_colab_link": true,
   "name": "Driver Ranking Tutorial",
   "provenance": []
  },
  "kernelspec": {
   "display_name": "Python 3 (ipykernel)",
   "language": "python",
   "name": "python3"
  },
  "language_info": {
   "codemirror_mode": {
    "name": "ipython",
    "version": 3
   },
   "file_extension": ".py",
   "mimetype": "text/x-python",
   "name": "python",
   "nbconvert_exporter": "python",
   "pygments_lexer": "ipython3",
   "version": "3.8.8"
  }
 },
 "nbformat": 4,
 "nbformat_minor": 4
}
